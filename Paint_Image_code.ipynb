{
  "nbformat": 4,
  "nbformat_minor": 0,
  "metadata": {
    "colab": {
      "provenance": []
    },
    "kernelspec": {
      "name": "python3",
      "display_name": "Python 3"
    },
    "language_info": {
      "name": "python"
    }
  },
  "cells": [
    {
      "cell_type": "code",
      "source": [
        "import cv2\n",
        "import numpy as np\n",
        "from PIL import Image\n",
        "\n",
        "def image_to_painting(image_path):\n",
        "    # Read the image\n",
        "    img = cv2.imread(image_path)\n",
        "\n",
        "    # Apply bilateral filter to smooth colors while preserving edges\n",
        "    smooth_img = cv2.bilateralFilter(img, d=9, sigmaColor=75, sigmaSpace=75)\n",
        "\n",
        "    # Convert to grayscale for edge enhancement\n",
        "    gray = cv2.cvtColor(img, cv2.COLOR_BGR2GRAY)\n",
        "    edges = cv2.adaptiveThreshold(cv2.medianBlur(gray, 5), 255, cv2.ADAPTIVE_THRESH_MEAN_C, cv2.THRESH_BINARY, 9, 9)\n",
        "\n",
        "    # Apply an oil painting effect\n",
        "    painting = cv2.stylization(smooth_img, sigma_s=150, sigma_r=0.3)  # Increased sigma_s for stronger brush strokes\n",
        "\n",
        "    # Blend the edges with the painting effect\n",
        "    painting = cv2.bitwise_and(painting, painting, mask=edges)\n",
        "\n",
        "    # Convert back to PIL format and save\n",
        "    painting_pil = Image.fromarray(cv2.cvtColor(painting, cv2.COLOR_BGR2RGB))\n",
        "    painting_pil.show()\n",
        "    painting_pil.save(\"realistic_painting.jpg\")\n",
        "    print(\"Painting saved as realistic_painting.jpg\")\n",
        "\n",
        "# Example Usage\n",
        "image_to_painting(\"your_image.jpg\")\n"
      ],
      "metadata": {
        "colab": {
          "base_uri": "https://localhost:8080/"
        },
        "id": "9gZe-d3et_Rk",
        "outputId": "56d07b52-4e70-4fa6-9dc3-f1fda82f7233"
      },
      "execution_count": 16,
      "outputs": [
        {
          "output_type": "stream",
          "name": "stdout",
          "text": [
            "Painting saved as realistic_painting.jpg\n"
          ]
        }
      ]
    }
  ]
}